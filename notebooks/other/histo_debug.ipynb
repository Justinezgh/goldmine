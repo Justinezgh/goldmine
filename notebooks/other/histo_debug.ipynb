{
 "cells": [
  {
   "cell_type": "code",
   "execution_count": 90,
   "metadata": {},
   "outputs": [],
   "source": [
    "import numpy as np\n",
    "import corner\n",
    "%matplotlib inline\n",
    "import matplotlib\n",
    "from matplotlib import pyplot as plt\n",
    "from sklearn.metrics import mean_squared_error\n",
    "import pickle"
   ]
  },
  {
   "cell_type": "code",
   "execution_count": 92,
   "metadata": {},
   "outputs": [
    {
     "name": "stdout",
     "output_type": "stream",
     "text": [
      "2.849512726180084\n",
      "12.734170593732694\n",
      "1.4560220629511478\n",
      "0.7688547039613475\n",
      "0.7669019665729848\n",
      "0.3844874608845994\n",
      "0.37748613376861656\n",
      "0.300760688278153\n",
      "0.27837662130048724\n"
     ]
    }
   ],
   "source": [
    "sample_sizes = [100, 200, 500, 1000, 2000, 5000, 10000, 20000, 50000]\n",
    "\n",
    "for sample_size in sample_sizes:\n",
    "    with open('../data/models/epidemiology2d/histogram/model_singletheta_trainingsamplesize_' + str(sample_size) + '_histos.pickle', 'rb') as file:\n",
    "        histos = pickle.load(file)\n",
    "        \n",
    "    hsum = np.sum(histos[0])\n",
    "    print(hsum)\n",
    "    "
   ]
  },
  {
   "cell_type": "code",
   "execution_count": 83,
   "metadata": {},
   "outputs": [],
   "source": [
    "with open('../data/models/epidemiology2d/histogram/model_singletheta_edges.pickle', 'rb') as file:\n",
    "    edges = pickle.load(file)\n",
    "with open('../data/models/epidemiology2d/histogram/model_singletheta_histos.pickle', 'rb') as file:\n",
    "    histos = pickle.load(file)\n",
    "n_bins = [h.shape for h in histos]"
   ]
  },
  {
   "cell_type": "code",
   "execution_count": 84,
   "metadata": {},
   "outputs": [
    {
     "name": "stdout",
     "output_type": "stream",
     "text": [
      "[array([ 3.99,  9.  , 10.  , 11.  , 12.  , 13.  , 14.  , 15.  , 16.  ,\n",
      "       23.01]), array([0.0654717 , 0.70811321])]\n"
     ]
    }
   ],
   "source": [
    "histo2d = histos[0][0,0,0,:,0,0,:,0]\n",
    "edges2d = [edges[0][3], edges[0][6]]\n",
    "nbins2d = histo2d.shape\n",
    "\n",
    "print(edges2d)"
   ]
  },
  {
   "cell_type": "code",
   "execution_count": 85,
   "metadata": {},
   "outputs": [],
   "source": [
    "def p_hat(x):\n",
    "    histo_indices = []\n",
    "\n",
    "    for j in range(x.shape[1]):\n",
    "        indices = np.searchsorted(edges2d[j],\n",
    "                                  x[:, j],\n",
    "                                  side=\"right\") - 1\n",
    "\n",
    "        indices[indices < 0] = 0\n",
    "        indices[indices >= nbins2d[j]] = nbins2d[j] - 1\n",
    "\n",
    "        histo_indices.append(indices)\n",
    "\n",
    "    return histo2d[histo_indices]"
   ]
  },
  {
   "cell_type": "code",
   "execution_count": 86,
   "metadata": {},
   "outputs": [],
   "source": [
    "xi = np.linspace(0.,30., 100)\n",
    "yi = np.linspace(0., 1., 100)\n",
    "\n",
    "xx, yy = np.meshgrid(xi, yi)\n",
    "\n",
    "x = np.vstack((xx.flatten(), yy.flatten())).T\n",
    "\n",
    "p_hat_thetas = p_hat(x).reshape((100,100))"
   ]
  },
  {
   "cell_type": "code",
   "execution_count": 89,
   "metadata": {},
   "outputs": [
    {
     "data": {
      "image/png": "[encoded data removed]",
      "text/plain": [
       "<matplotlib.figure.Figure at 0x1a112a05c0>"
      ]
     },
     "metadata": {},
     "output_type": "display_data"
    }
   ],
   "source": [
    "fig = plt.figure(figsize=(6, 5))\n",
    "ax = plt.gca()\n",
    "\n",
    "pcm = ax.pcolormesh(xi, yi, p_hat_thetas,\n",
    "                    norm=matplotlib.colors.LogNorm(vmin=1.e-4, vmax=0.05),\n",
    "                    cmap='viridis')\n",
    "cbar = fig.colorbar(pcm, ax=ax, extend='both')\n",
    "\n",
    "cbar.set_label(r'$\\hat{p}(x)$')\n",
    "plt.xlim(0.,30.)\n",
    "plt.ylim(0., 1.)\n",
    "\n",
    "plt.tight_layout()"
   ]
  },
  {
   "cell_type": "code",
   "execution_count": null,
   "metadata": {},
   "outputs": [],
   "source": []
  }
 ],
 "metadata": {
  "kernelspec": {
   "display_name": "Python [conda env:higgs_inference]",
   "language": "python",
   "name": "conda-env-higgs_inference-py"
  },
  "language_info": {
   "codemirror_mode": {
    "name": "ipython",
    "version": 3
   },
   "file_extension": ".py",
   "mimetype": "text/x-python",
   "name": "python",
   "nbconvert_exporter": "python",
   "pygments_lexer": "ipython3",
   "version": "3.6.4"
  }
 },
 "nbformat": 4,
 "nbformat_minor": 2
}
